{
 "cells": [
  {
   "cell_type": "markdown",
   "metadata": {},
   "source": [
    "### Import Libraries and Data Sets"
   ]
  },
  {
   "cell_type": "code",
   "execution_count": 5,
   "metadata": {},
   "outputs": [],
   "source": [
    "import pandas as pd\n",
    "import numpy as np\n",
    "import pickle\n",
    "import re\n",
    "import matplotlib.pyplot as plt\n",
    "from wordcloud import WordCloud, STOPWORDS\n",
    "\n",
    "import spacy \n",
    "nlp = spacy.load('en_core_web_sm') "
   ]
  },
  {
   "cell_type": "code",
   "execution_count": 24,
   "metadata": {},
   "outputs": [
    {
     "data": {
      "text/html": [
       "<div>\n",
       "<style scoped>\n",
       "    .dataframe tbody tr th:only-of-type {\n",
       "        vertical-align: middle;\n",
       "    }\n",
       "\n",
       "    .dataframe tbody tr th {\n",
       "        vertical-align: top;\n",
       "    }\n",
       "\n",
       "    .dataframe thead th {\n",
       "        text-align: right;\n",
       "    }\n",
       "</style>\n",
       "<table border=\"1\" class=\"dataframe\">\n",
       "  <thead>\n",
       "    <tr style=\"text-align: right;\">\n",
       "      <th></th>\n",
       "      <th>Character</th>\n",
       "      <th>Line</th>\n",
       "      <th>Line_Number</th>\n",
       "      <th>Episode</th>\n",
       "      <th>Episode_Split</th>\n",
       "    </tr>\n",
       "  </thead>\n",
       "  <tbody>\n",
       "    <tr>\n",
       "      <th>0</th>\n",
       "      <td>Leslie Knope</td>\n",
       "      <td>Hello.</td>\n",
       "      <td>0</td>\n",
       "      <td>s1e01</td>\n",
       "      <td>s1e01</td>\n",
       "    </tr>\n",
       "    <tr>\n",
       "      <th>1</th>\n",
       "      <td>Leslie Knope</td>\n",
       "      <td>Hi.</td>\n",
       "      <td>1</td>\n",
       "      <td>s1e01</td>\n",
       "      <td>s1e01</td>\n",
       "    </tr>\n",
       "    <tr>\n",
       "      <th>2</th>\n",
       "      <td>Leslie Knope</td>\n",
       "      <td>My name is Leslie Knope, and I work for the Pa...</td>\n",
       "      <td>2</td>\n",
       "      <td>s1e01</td>\n",
       "      <td>s1e01</td>\n",
       "    </tr>\n",
       "    <tr>\n",
       "      <th>3</th>\n",
       "      <td>Leslie Knope</td>\n",
       "      <td>Can I ask you a few questions?</td>\n",
       "      <td>3</td>\n",
       "      <td>s1e01</td>\n",
       "      <td>s1e01</td>\n",
       "    </tr>\n",
       "    <tr>\n",
       "      <th>4</th>\n",
       "      <td>Leslie Knope</td>\n",
       "      <td>Would you say that you are, \"Enjoying yourself...</td>\n",
       "      <td>4</td>\n",
       "      <td>s1e01</td>\n",
       "      <td>s1e01</td>\n",
       "    </tr>\n",
       "  </tbody>\n",
       "</table>\n",
       "</div>"
      ],
      "text/plain": [
       "      Character                                               Line  \\\n",
       "0  Leslie Knope                                             Hello.   \n",
       "1  Leslie Knope                                                Hi.   \n",
       "2  Leslie Knope  My name is Leslie Knope, and I work for the Pa...   \n",
       "3  Leslie Knope                     Can I ask you a few questions?   \n",
       "4  Leslie Knope  Would you say that you are, \"Enjoying yourself...   \n",
       "\n",
       "  Line_Number Episode Episode_Split  \n",
       "0           0   s1e01         s1e01  \n",
       "1           1   s1e01         s1e01  \n",
       "2           2   s1e01         s1e01  \n",
       "3           3   s1e01         s1e01  \n",
       "4           4   s1e01         s1e01  "
      ]
     },
     "execution_count": 24,
     "metadata": {},
     "output_type": "execute_result"
    }
   ],
   "source": [
    "with open('all_scripts.pickle','rb') as read_file:\n",
    "    scripts = pickle.load(read_file)\n",
    "\n",
    "scripts.head()"
   ]
  },
  {
   "cell_type": "code",
   "execution_count": 2,
   "metadata": {},
   "outputs": [
    {
     "data": {
      "text/html": [
       "<div>\n",
       "<style scoped>\n",
       "    .dataframe tbody tr th:only-of-type {\n",
       "        vertical-align: middle;\n",
       "    }\n",
       "\n",
       "    .dataframe tbody tr th {\n",
       "        vertical-align: top;\n",
       "    }\n",
       "\n",
       "    .dataframe thead th {\n",
       "        text-align: right;\n",
       "    }\n",
       "</style>\n",
       "<table border=\"1\" class=\"dataframe\">\n",
       "  <thead>\n",
       "    <tr style=\"text-align: right;\">\n",
       "      <th></th>\n",
       "      <th>Character</th>\n",
       "      <th>Episode</th>\n",
       "      <th>Episode_Split</th>\n",
       "      <th>Episode_Text</th>\n",
       "    </tr>\n",
       "  </thead>\n",
       "  <tbody>\n",
       "    <tr>\n",
       "      <th>0</th>\n",
       "      <td>Leslie Knope</td>\n",
       "      <td>s1e01</td>\n",
       "      <td>s1e01</td>\n",
       "      <td>Hello. Hi. My name is Leslie Knope, and I work...</td>\n",
       "    </tr>\n",
       "    <tr>\n",
       "      <th>1</th>\n",
       "      <td>Leslie Knope</td>\n",
       "      <td>s1e02</td>\n",
       "      <td>s1e02</td>\n",
       "      <td>Well, one of the funner things that we do here...</td>\n",
       "    </tr>\n",
       "    <tr>\n",
       "      <th>2</th>\n",
       "      <td>Leslie Knope</td>\n",
       "      <td>s1e03</td>\n",
       "      <td>s1e03</td>\n",
       "      <td>The Parks Department has so many programs. Jer...</td>\n",
       "    </tr>\n",
       "    <tr>\n",
       "      <th>3</th>\n",
       "      <td>Leslie Knope</td>\n",
       "      <td>s1e04</td>\n",
       "      <td>s1e04</td>\n",
       "      <td>I don't believe it. Oh, my God. It's real. Hey...</td>\n",
       "    </tr>\n",
       "    <tr>\n",
       "      <th>4</th>\n",
       "      <td>Leslie Knope</td>\n",
       "      <td>s1e05</td>\n",
       "      <td>s1e05</td>\n",
       "      <td>In a town as old as Pawnee, there's a lot of h...</td>\n",
       "    </tr>\n",
       "  </tbody>\n",
       "</table>\n",
       "</div>"
      ],
      "text/plain": [
       "      Character Episode Episode_Split  \\\n",
       "0  Leslie Knope   s1e01         s1e01   \n",
       "1  Leslie Knope   s1e02         s1e02   \n",
       "2  Leslie Knope   s1e03         s1e03   \n",
       "3  Leslie Knope   s1e04         s1e04   \n",
       "4  Leslie Knope   s1e05         s1e05   \n",
       "\n",
       "                                        Episode_Text  \n",
       "0  Hello. Hi. My name is Leslie Knope, and I work...  \n",
       "1  Well, one of the funner things that we do here...  \n",
       "2  The Parks Department has so many programs. Jer...  \n",
       "3  I don't believe it. Oh, my God. It's real. Hey...  \n",
       "4  In a town as old as Pawnee, there's a lot of h...  "
      ]
     },
     "execution_count": 2,
     "metadata": {},
     "output_type": "execute_result"
    }
   ],
   "source": [
    "with open('Leslie_all.pickle','rb') as read_file:\n",
    "    leslie_episodes = pickle.load(read_file)\n",
    "\n",
    "leslie_episodes.head()"
   ]
  },
  {
   "cell_type": "markdown",
   "metadata": {},
   "source": [
    "<br>"
   ]
  },
  {
   "cell_type": "markdown",
   "metadata": {},
   "source": [
    "### Get Episode and Word Counts for Each Character"
   ]
  },
  {
   "cell_type": "code",
   "execution_count": 25,
   "metadata": {},
   "outputs": [
    {
     "data": {
      "text/html": [
       "<div>\n",
       "<style scoped>\n",
       "    .dataframe tbody tr th:only-of-type {\n",
       "        vertical-align: middle;\n",
       "    }\n",
       "\n",
       "    .dataframe tbody tr th {\n",
       "        vertical-align: top;\n",
       "    }\n",
       "\n",
       "    .dataframe thead th {\n",
       "        text-align: right;\n",
       "    }\n",
       "</style>\n",
       "<table border=\"1\" class=\"dataframe\">\n",
       "  <thead>\n",
       "    <tr style=\"text-align: right;\">\n",
       "      <th></th>\n",
       "      <th>Character</th>\n",
       "      <th>Line</th>\n",
       "      <th>Line_Number</th>\n",
       "      <th>Episode</th>\n",
       "      <th>Episode_Split</th>\n",
       "      <th>Word_Count</th>\n",
       "    </tr>\n",
       "  </thead>\n",
       "  <tbody>\n",
       "    <tr>\n",
       "      <th>0</th>\n",
       "      <td>Leslie Knope</td>\n",
       "      <td>Hello.</td>\n",
       "      <td>0</td>\n",
       "      <td>s1e01</td>\n",
       "      <td>s1e01</td>\n",
       "      <td>1</td>\n",
       "    </tr>\n",
       "    <tr>\n",
       "      <th>1</th>\n",
       "      <td>Leslie Knope</td>\n",
       "      <td>Hi.</td>\n",
       "      <td>1</td>\n",
       "      <td>s1e01</td>\n",
       "      <td>s1e01</td>\n",
       "      <td>1</td>\n",
       "    </tr>\n",
       "    <tr>\n",
       "      <th>2</th>\n",
       "      <td>Leslie Knope</td>\n",
       "      <td>My name is Leslie Knope, and I work for the Pa...</td>\n",
       "      <td>2</td>\n",
       "      <td>s1e01</td>\n",
       "      <td>s1e01</td>\n",
       "      <td>14</td>\n",
       "    </tr>\n",
       "    <tr>\n",
       "      <th>3</th>\n",
       "      <td>Leslie Knope</td>\n",
       "      <td>Can I ask you a few questions?</td>\n",
       "      <td>3</td>\n",
       "      <td>s1e01</td>\n",
       "      <td>s1e01</td>\n",
       "      <td>7</td>\n",
       "    </tr>\n",
       "    <tr>\n",
       "      <th>4</th>\n",
       "      <td>Leslie Knope</td>\n",
       "      <td>Would you say that you are, \"Enjoying yourself...</td>\n",
       "      <td>4</td>\n",
       "      <td>s1e01</td>\n",
       "      <td>s1e01</td>\n",
       "      <td>28</td>\n",
       "    </tr>\n",
       "  </tbody>\n",
       "</table>\n",
       "</div>"
      ],
      "text/plain": [
       "      Character                                               Line  \\\n",
       "0  Leslie Knope                                             Hello.   \n",
       "1  Leslie Knope                                                Hi.   \n",
       "2  Leslie Knope  My name is Leslie Knope, and I work for the Pa...   \n",
       "3  Leslie Knope                     Can I ask you a few questions?   \n",
       "4  Leslie Knope  Would you say that you are, \"Enjoying yourself...   \n",
       "\n",
       "  Line_Number Episode Episode_Split  Word_Count  \n",
       "0           0   s1e01         s1e01           1  \n",
       "1           1   s1e01         s1e01           1  \n",
       "2           2   s1e01         s1e01          14  \n",
       "3           3   s1e01         s1e01           7  \n",
       "4           4   s1e01         s1e01          28  "
      ]
     },
     "execution_count": 25,
     "metadata": {},
     "output_type": "execute_result"
    }
   ],
   "source": [
    "scripts['Word_Count'] = scripts['Line'].str.strip().str.split(\" \").str.len()\n",
    "scripts.head()"
   ]
  },
  {
   "cell_type": "code",
   "execution_count": 41,
   "metadata": {},
   "outputs": [
    {
     "data": {
      "text/plain": [
       "Character\n",
       "Leslie Knope               125\n",
       "Ron Swanson                124\n",
       "April Ludgate              124\n",
       "Tom Haverford              121\n",
       "Andy Dwyer                 117\n",
       "Extra                      113\n",
       "Jerry Gergich              111\n",
       "Donna Meagle               110\n",
       "Ann Perkins                100\n",
       "Ben Wyatt                   97\n",
       "Chris Traeger               75\n",
       "Mark Brendanawicz           30\n",
       "Perd Hapley                 29\n",
       "All                         23\n",
       "Jean-Ralphio Saperstein     19\n",
       "Name: Episode_Split, dtype: int64"
      ]
     },
     "execution_count": 41,
     "metadata": {},
     "output_type": "execute_result"
    }
   ],
   "source": [
    "most_episodes = scripts.groupby('Character')['Episode_Split'].nunique()\n",
    "most_episodes.sort_values(ascending = False, inplace = True)\n",
    "most_episodes.head(15)"
   ]
  },
  {
   "cell_type": "code",
   "execution_count": 39,
   "metadata": {},
   "outputs": [
    {
     "data": {
      "text/plain": [
       "Character\n",
       "Leslie Knope               123971\n",
       "Tom Haverford               40929\n",
       "Ron Swanson                 34585\n",
       "Ben Wyatt                   32805\n",
       "Andy Dwyer                  32320\n",
       "Ann Perkins                 25224\n",
       "April Ludgate               22275\n",
       "Chris Traeger               19725\n",
       "Extra                       10381\n",
       "Donna Meagle                 8251\n",
       "Jerry Gergich                8029\n",
       "Mark Brendanawicz            4982\n",
       "Jeremy Jamm                  4100\n",
       "Jean-Ralphio Saperstein      3272\n",
       "Jennifer Barkley             2653\n",
       "Name: Word_Count, dtype: int64"
      ]
     },
     "execution_count": 39,
     "metadata": {},
     "output_type": "execute_result"
    }
   ],
   "source": [
    "most_words = scripts.groupby('Character')['Word_Count'].sum()\n",
    "most_words.sort_values(ascending = False, inplace = True)\n",
    "most_words.head(15)"
   ]
  },
  {
   "cell_type": "markdown",
   "metadata": {},
   "source": [
    "<br>"
   ]
  },
  {
   "cell_type": "markdown",
   "metadata": {},
   "source": [
    "### Transform Leslie Data Set for Word Cloud"
   ]
  },
  {
   "cell_type": "code",
   "execution_count": 6,
   "metadata": {},
   "outputs": [
    {
     "data": {
      "text/plain": [
       "'Hello. Hi. My name is Leslie Knope, and I work for the Parks and Recreation Department. Can I ask you a few questions? Would you say that you are, \"Enjoying yourself and having fun, having a moderate amount of fun and somewhat enjoying yourself, or having no fun and no enjoyment?\" I\\'m gonna put a lot of fun. Sir, this is a children\\'s slide. You\\'re not allowed to sleep in here. You know, when I first tell people that I work in the government, they say, \"Oh.\" \"The government.\" \"The government stinks.\" \"The lines are too long at the DMV.\" But now things have changed. People need our help. And it feels good to be needed. Could you put your arms to your side? And that might help you slide down a little easier. Do you want to come this way? Okay, we\\'re gonna need you to get out. Get out of the slide. Okay? Here we go! Okay, wake up. Here we go. Out of the slide. You know, government isn\\'t just a boys\\' club anymore. Women are everywhere. It\\'s a great time to be a woman in politics. Hillary Cl'"
      ]
     },
     "execution_count": 6,
     "metadata": {},
     "output_type": "execute_result"
    }
   ],
   "source": [
    "# Combine all lines\n",
    "all_leslie_text = leslie_episodes['Episode_Text']\n",
    "comb = all_leslie_text.str.cat(sep = ' ')\n",
    "comb[:1000]"
   ]
  },
  {
   "cell_type": "code",
   "execution_count": 7,
   "metadata": {},
   "outputs": [
    {
     "data": {
      "text/plain": [
       "'hello . hi . my name be Leslie Knope , and I work for the Parks and Recreation Department . can I ask you a few question ? would you say that you be , \" enjoy yourself and have fun , have a moderate amount of fun and somewhat enjoy yourself , or have no fun and no enjoyment ? \" I be gon na put a lot of fun . Sir , this be a child \\'s slide . you be not allow to sleep in here . you know , when I first tell people that I work in the government , they say , \" oh . \" \" the government . \" \" the government stink . \" \" the line be too long at the DMV . \" but now thing have change . People need our help . and it feel good to be need . could you put your arm to your side ? and that might help you slide down a little easy . do you want to come this way ? okay , we be gon na need you to get out . get out of the slide . okay ? here we go ! okay , wake up . here we go . out of the slide . you know , government be n\\'t just a boy \\' club anymore . woman be everywhere . it be a great time to be a woman '"
      ]
     },
     "execution_count": 7,
     "metadata": {},
     "output_type": "execute_result"
    }
   ],
   "source": [
    "# Lemmatize the words and combine again\n",
    "doc = nlp(comb)\n",
    "words_lemma = (\" \".join(token.lemma_ for token in doc))\n",
    "words_lemma[:1000]"
   ]
  },
  {
   "cell_type": "code",
   "execution_count": 8,
   "metadata": {},
   "outputs": [
    {
     "data": {
      "text/plain": [
       "'hello  hi  my name be leslie knope  and i work for the parks and recreation department  can i ask you a few question  would you say that you be   enjoy yourself and have fun  have a moderate amount of fun and somewhat enjoy yourself  or have no fun and no enjoyment   i be gon na put a lot of fun  sir  this be a child s slide  you be not allow to sleep in here  you know  when i first tell people that i work in the government  they say   oh    the government    the government stink    the line be too long at the dmv   but now thing have change  people need our help  and it feel good to be need  could you put your arm to your side  and that might help you slide down a little easy  do you want to come this way  okay  we be gon na need you to get out  get out of the slide  okay  here we go  okay  wake up  here we go  out of the slide  you know  government be nt just a boy  club anymore  woman be everywhere  it be a great time to be a woman in politic  hillary clinton  sarah palin  i  nancy '"
      ]
     },
     "execution_count": 8,
     "metadata": {},
     "output_type": "execute_result"
    }
   ],
   "source": [
    "# Remove punctuation and make all words lowercase\n",
    "word_lower = re.sub(r'[^\\w\\s]','',words_lemma).lower()\n",
    "word_lower[:1000]"
   ]
  },
  {
   "cell_type": "markdown",
   "metadata": {},
   "source": [
    "<br>"
   ]
  },
  {
   "cell_type": "markdown",
   "metadata": {},
   "source": [
    "### Create WordCloud"
   ]
  },
  {
   "cell_type": "code",
   "execution_count": 9,
   "metadata": {},
   "outputs": [],
   "source": [
    "# Create set of stopwords\n",
    "commonwords = ['okay', 'im', 'know', 'well', 'dont', 'youre', 'gonna', 'need', 'oh', 'one', 'think',\n",
    "              'thats', 'want', 'go', 'yeah', 'going', 'let', 'will', 'now', 'hey', 'really', 'right',\n",
    "              'look', 'god', 'say', 'hes', 'come', 'god', 'say', 'guy', 'much', 'thing', 'mean',\n",
    "              'cant', 'theres', 'got', 'guys', 'put', 'ill', 'new', 'maybe', 'make', 'ive', 'theyre',\n",
    "              'lets', 'take', 'something', 'back', 'see', 'tell', 'said', 'made', 'lot', 'shes', \n",
    "              'things', 'two', 'whats', 'day', 'even', 'didnt', 'first', 'every', 'leslie', 'knope',\n",
    "              'keep', 'wait', 'wanted', 'time', 'nt', 's', 'gon', 'na', 've', 'll', 'good', 'ca']\n",
    "\n",
    "stop_words = list(STOPWORDS)\n",
    "stopwords = set(stop_words + commonwords)"
   ]
  },
  {
   "cell_type": "code",
   "execution_count": 23,
   "metadata": {},
   "outputs": [
    {
     "data": {
      "image/png": "[encoded data removed]",
      "text/plain": [
       "<Figure size 432x720 with 1 Axes>"
      ]
     },
     "metadata": {
      "needs_background": "light"
     },
     "output_type": "display_data"
    }
   ],
   "source": [
    "# The output isn't the exact wordcloud used in the presentation because I had to restart the notebook and the\n",
    "# output changes each time it is run, but it is the same settings and specifications\n",
    "\n",
    "wc = WordCloud(background_color=\"white\",\n",
    "               width=1000, height=600,\n",
    "                    max_words=25,\n",
    "                    prefer_horizontal=1.0,\n",
    "                    stopwords=stopwords,\n",
    "                    relative_scaling=1,\n",
    "                    color_func=lambda *args, **kwargs: (0,100,0))\n",
    "\n",
    "wc.generate(word_lower)\n",
    "\n",
    "plt.figure(figsize = (6, 10), facecolor = None) \n",
    "plt.imshow(wc)\n",
    "plt.axis(\"off\") \n",
    "plt.tight_layout(pad = 0) \n",
    "  \n",
    "#wc.to_file(\"wordcloud.png\");"
   ]
  },
  {
   "cell_type": "code",
   "execution_count": 11,
   "metadata": {},
   "outputs": [
    {
     "data": {
      "text/plain": [
       "{'pawnee': 1.0,\n",
       " 'ron': 0.9548192771084337,\n",
       " 'ann': 0.9337349397590361,\n",
       " 'thank': 0.858433734939759,\n",
       " 'great': 0.8403614457831325,\n",
       " 'people': 0.8072289156626506,\n",
       " 'work': 0.7560240963855421,\n",
       " 'love': 0.7439759036144579,\n",
       " 'talk': 0.7078313253012049,\n",
       " 'sorry': 0.6807228915662651,\n",
       " 'yes': 0.6445783132530121,\n",
       " 'park': 0.6054216867469879,\n",
       " 'ben': 0.5873493975903614,\n",
       " 'tom': 0.5391566265060241,\n",
       " 'call': 0.5331325301204819,\n",
       " 'give': 0.5,\n",
       " 'way': 0.4759036144578313,\n",
       " 'town': 0.45180722891566266,\n",
       " 'friend': 0.4367469879518072,\n",
       " 'try': 0.42771084337349397,\n",
       " 'little': 0.4246987951807229,\n",
       " 'april': 0.4246987951807229,\n",
       " 'idea': 0.40963855421686746,\n",
       " 'help': 0.4006024096385542,\n",
       " 'jerry': 0.4006024096385542}"
      ]
     },
     "execution_count": 11,
     "metadata": {},
     "output_type": "execute_result"
    }
   ],
   "source": [
    "# Look at relative frequency of words\n",
    "wc.words_"
   ]
  }
 ],
 "metadata": {
  "kernelspec": {
   "display_name": "Python 3",
   "language": "python",
   "name": "python3"
  },
  "language_info": {
   "codemirror_mode": {
    "name": "ipython",
    "version": 3
   },
   "file_extension": ".py",
   "mimetype": "text/x-python",
   "name": "python",
   "nbconvert_exporter": "python",
   "pygments_lexer": "ipython3",
   "version": "3.8.5"
  }
 },
 "nbformat": 4,
 "nbformat_minor": 4
}
