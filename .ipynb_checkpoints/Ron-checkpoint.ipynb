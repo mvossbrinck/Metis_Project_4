{
 "cells": [
  {
   "cell_type": "code",
   "execution_count": 17,
   "metadata": {},
   "outputs": [],
   "source": [
    "import pandas as pd\n",
    "import pickle\n",
    "import nltk\n",
    "from nltk.tokenize import word_tokenize\n",
    "from sklearn.feature_extraction.text import CountVectorizer \n",
    "from sklearn.decomposition import NMF"
   ]
  },
  {
   "cell_type": "code",
   "execution_count": 2,
   "metadata": {},
   "outputs": [
    {
     "data": {
      "text/html": [
       "<div>\n",
       "<style scoped>\n",
       "    .dataframe tbody tr th:only-of-type {\n",
       "        vertical-align: middle;\n",
       "    }\n",
       "\n",
       "    .dataframe tbody tr th {\n",
       "        vertical-align: top;\n",
       "    }\n",
       "\n",
       "    .dataframe thead th {\n",
       "        text-align: right;\n",
       "    }\n",
       "</style>\n",
       "<table border=\"1\" class=\"dataframe\">\n",
       "  <thead>\n",
       "    <tr style=\"text-align: right;\">\n",
       "      <th></th>\n",
       "      <th>Character</th>\n",
       "      <th>Line</th>\n",
       "      <th>Line_Number</th>\n",
       "      <th>Episode</th>\n",
       "    </tr>\n",
       "  </thead>\n",
       "  <tbody>\n",
       "    <tr>\n",
       "      <th>0</th>\n",
       "      <td>Leslie Knope</td>\n",
       "      <td>Hello.</td>\n",
       "      <td>0</td>\n",
       "      <td>s1e01</td>\n",
       "    </tr>\n",
       "    <tr>\n",
       "      <th>1</th>\n",
       "      <td>Leslie Knope</td>\n",
       "      <td>Hi.</td>\n",
       "      <td>1</td>\n",
       "      <td>s1e01</td>\n",
       "    </tr>\n",
       "    <tr>\n",
       "      <th>2</th>\n",
       "      <td>Leslie Knope</td>\n",
       "      <td>My name is Leslie Knope, and I work for the Pa...</td>\n",
       "      <td>2</td>\n",
       "      <td>s1e01</td>\n",
       "    </tr>\n",
       "    <tr>\n",
       "      <th>3</th>\n",
       "      <td>Leslie Knope</td>\n",
       "      <td>Can I ask you a few questions?</td>\n",
       "      <td>3</td>\n",
       "      <td>s1e01</td>\n",
       "    </tr>\n",
       "    <tr>\n",
       "      <th>4</th>\n",
       "      <td>Leslie Knope</td>\n",
       "      <td>Would you say that you are, \"Enjoying yourself...</td>\n",
       "      <td>4</td>\n",
       "      <td>s1e01</td>\n",
       "    </tr>\n",
       "  </tbody>\n",
       "</table>\n",
       "</div>"
      ],
      "text/plain": [
       "      Character                                               Line  \\\n",
       "0  Leslie Knope                                             Hello.   \n",
       "1  Leslie Knope                                                Hi.   \n",
       "2  Leslie Knope  My name is Leslie Knope, and I work for the Pa...   \n",
       "3  Leslie Knope                     Can I ask you a few questions?   \n",
       "4  Leslie Knope  Would you say that you are, \"Enjoying yourself...   \n",
       "\n",
       "  Line_Number Episode  \n",
       "0           0   s1e01  \n",
       "1           1   s1e01  \n",
       "2           2   s1e01  \n",
       "3           3   s1e01  \n",
       "4           4   s1e01  "
      ]
     },
     "execution_count": 2,
     "metadata": {},
     "output_type": "execute_result"
    }
   ],
   "source": [
    "with open('all_scripts.pickle','rb') as read_file:\n",
    "    all_scripts = pickle.load(read_file)\n",
    "\n",
    "all_scripts.head()"
   ]
  },
  {
   "cell_type": "code",
   "execution_count": 19,
   "metadata": {},
   "outputs": [
    {
     "data": {
      "text/html": [
       "<div>\n",
       "<style scoped>\n",
       "    .dataframe tbody tr th:only-of-type {\n",
       "        vertical-align: middle;\n",
       "    }\n",
       "\n",
       "    .dataframe tbody tr th {\n",
       "        vertical-align: top;\n",
       "    }\n",
       "\n",
       "    .dataframe thead th {\n",
       "        text-align: right;\n",
       "    }\n",
       "</style>\n",
       "<table border=\"1\" class=\"dataframe\">\n",
       "  <thead>\n",
       "    <tr style=\"text-align: right;\">\n",
       "      <th></th>\n",
       "      <th>Character</th>\n",
       "      <th>Line</th>\n",
       "      <th>Line_Number</th>\n",
       "      <th>Episode</th>\n",
       "    </tr>\n",
       "  </thead>\n",
       "  <tbody>\n",
       "    <tr>\n",
       "      <th>0</th>\n",
       "      <td>Leslie Knope</td>\n",
       "      <td>hello</td>\n",
       "      <td>0</td>\n",
       "      <td>s1e01</td>\n",
       "    </tr>\n",
       "    <tr>\n",
       "      <th>1</th>\n",
       "      <td>Leslie Knope</td>\n",
       "      <td>hi</td>\n",
       "      <td>1</td>\n",
       "      <td>s1e01</td>\n",
       "    </tr>\n",
       "    <tr>\n",
       "      <th>2</th>\n",
       "      <td>Leslie Knope</td>\n",
       "      <td>my name is leslie knope  and i work for the pa...</td>\n",
       "      <td>2</td>\n",
       "      <td>s1e01</td>\n",
       "    </tr>\n",
       "    <tr>\n",
       "      <th>3</th>\n",
       "      <td>Leslie Knope</td>\n",
       "      <td>can i ask you a few questions</td>\n",
       "      <td>3</td>\n",
       "      <td>s1e01</td>\n",
       "    </tr>\n",
       "    <tr>\n",
       "      <th>4</th>\n",
       "      <td>Leslie Knope</td>\n",
       "      <td>would you say that you are   enjoying yourself...</td>\n",
       "      <td>4</td>\n",
       "      <td>s1e01</td>\n",
       "    </tr>\n",
       "  </tbody>\n",
       "</table>\n",
       "</div>"
      ],
      "text/plain": [
       "      Character                                               Line  \\\n",
       "0  Leslie Knope                                             hello    \n",
       "1  Leslie Knope                                                hi    \n",
       "2  Leslie Knope  my name is leslie knope  and i work for the pa...   \n",
       "3  Leslie Knope                     can i ask you a few questions    \n",
       "4  Leslie Knope  would you say that you are   enjoying yourself...   \n",
       "\n",
       "  Line_Number Episode  \n",
       "0           0   s1e01  \n",
       "1           1   s1e01  \n",
       "2           2   s1e01  \n",
       "3           3   s1e01  \n",
       "4           4   s1e01  "
      ]
     },
     "execution_count": 19,
     "metadata": {},
     "output_type": "execute_result"
    }
   ],
   "source": [
    "import re\n",
    "import string\n",
    "\n",
    "alphanumeric = lambda x: re.sub('\\w*\\d\\w*', ' ', x)\n",
    "punc_lower = lambda x: re.sub('[%s]' % re.escape(string.punctuation), ' ', x.lower())\n",
    "\n",
    "all_scripts['Line'] = all_scripts.Line.map(alphanumeric).map(punc_lower)\n",
    "all_scripts.head()"
   ]
  },
  {
   "cell_type": "code",
   "execution_count": 24,
   "metadata": {},
   "outputs": [
    {
     "data": {
      "text/html": [
       "<div>\n",
       "<style scoped>\n",
       "    .dataframe tbody tr th:only-of-type {\n",
       "        vertical-align: middle;\n",
       "    }\n",
       "\n",
       "    .dataframe tbody tr th {\n",
       "        vertical-align: top;\n",
       "    }\n",
       "\n",
       "    .dataframe thead th {\n",
       "        text-align: right;\n",
       "    }\n",
       "</style>\n",
       "<table border=\"1\" class=\"dataframe\">\n",
       "  <thead>\n",
       "    <tr style=\"text-align: right;\">\n",
       "      <th></th>\n",
       "      <th>Character</th>\n",
       "      <th>Line</th>\n",
       "      <th>Line_Number</th>\n",
       "      <th>Episode</th>\n",
       "      <th>Word_Count</th>\n",
       "    </tr>\n",
       "  </thead>\n",
       "  <tbody>\n",
       "    <tr>\n",
       "      <th>0</th>\n",
       "      <td>Leslie Knope</td>\n",
       "      <td>hello</td>\n",
       "      <td>0</td>\n",
       "      <td>s1e01</td>\n",
       "      <td>1</td>\n",
       "    </tr>\n",
       "    <tr>\n",
       "      <th>1</th>\n",
       "      <td>Leslie Knope</td>\n",
       "      <td>hi</td>\n",
       "      <td>1</td>\n",
       "      <td>s1e01</td>\n",
       "      <td>1</td>\n",
       "    </tr>\n",
       "    <tr>\n",
       "      <th>2</th>\n",
       "      <td>Leslie Knope</td>\n",
       "      <td>my name is leslie knope  and i work for the pa...</td>\n",
       "      <td>2</td>\n",
       "      <td>s1e01</td>\n",
       "      <td>15</td>\n",
       "    </tr>\n",
       "    <tr>\n",
       "      <th>3</th>\n",
       "      <td>Leslie Knope</td>\n",
       "      <td>can i ask you a few questions</td>\n",
       "      <td>3</td>\n",
       "      <td>s1e01</td>\n",
       "      <td>7</td>\n",
       "    </tr>\n",
       "    <tr>\n",
       "      <th>4</th>\n",
       "      <td>Leslie Knope</td>\n",
       "      <td>would you say that you are   enjoying yourself...</td>\n",
       "      <td>4</td>\n",
       "      <td>s1e01</td>\n",
       "      <td>32</td>\n",
       "    </tr>\n",
       "    <tr>\n",
       "      <th>...</th>\n",
       "      <td>...</td>\n",
       "      <td>...</td>\n",
       "      <td>...</td>\n",
       "      <td>...</td>\n",
       "      <td>...</td>\n",
       "    </tr>\n",
       "    <tr>\n",
       "      <th>988</th>\n",
       "      <td>Jerry Gergich</td>\n",
       "      <td>okay</td>\n",
       "      <td>988</td>\n",
       "      <td>s7e12</td>\n",
       "      <td>1</td>\n",
       "    </tr>\n",
       "    <tr>\n",
       "      <th>989</th>\n",
       "      <td>Ben Wyatt</td>\n",
       "      <td>you ready  babe</td>\n",
       "      <td>989</td>\n",
       "      <td>s7e12</td>\n",
       "      <td>4</td>\n",
       "    </tr>\n",
       "    <tr>\n",
       "      <th>990</th>\n",
       "      <td>Leslie Knope</td>\n",
       "      <td>yes</td>\n",
       "      <td>990</td>\n",
       "      <td>s7e12</td>\n",
       "      <td>1</td>\n",
       "    </tr>\n",
       "    <tr>\n",
       "      <th>991</th>\n",
       "      <td>Leslie Knope</td>\n",
       "      <td>i m ready</td>\n",
       "      <td>991</td>\n",
       "      <td>s7e12</td>\n",
       "      <td>3</td>\n",
       "    </tr>\n",
       "    <tr>\n",
       "      <th>992</th>\n",
       "      <td>Extra</td>\n",
       "      <td>that is a series wrap on parks and recreation</td>\n",
       "      <td>992</td>\n",
       "      <td>s7e12</td>\n",
       "      <td>9</td>\n",
       "    </tr>\n",
       "  </tbody>\n",
       "</table>\n",
       "<p>65942 rows × 5 columns</p>\n",
       "</div>"
      ],
      "text/plain": [
       "         Character                                               Line  \\\n",
       "0     Leslie Knope                                             hello    \n",
       "1     Leslie Knope                                                hi    \n",
       "2     Leslie Knope  my name is leslie knope  and i work for the pa...   \n",
       "3     Leslie Knope                     can i ask you a few questions    \n",
       "4     Leslie Knope  would you say that you are   enjoying yourself...   \n",
       "..             ...                                                ...   \n",
       "988  Jerry Gergich                                              okay    \n",
       "989      Ben Wyatt                                   you ready  babe    \n",
       "990   Leslie Knope                                               yes    \n",
       "991   Leslie Knope                                         i m ready    \n",
       "992          Extra     that is a series wrap on parks and recreation    \n",
       "\n",
       "    Line_Number Episode  Word_Count  \n",
       "0             0   s1e01           1  \n",
       "1             1   s1e01           1  \n",
       "2             2   s1e01          15  \n",
       "3             3   s1e01           7  \n",
       "4             4   s1e01          32  \n",
       "..          ...     ...         ...  \n",
       "988         988   s7e12           1  \n",
       "989         989   s7e12           4  \n",
       "990         990   s7e12           1  \n",
       "991         991   s7e12           3  \n",
       "992         992   s7e12           9  \n",
       "\n",
       "[65942 rows x 5 columns]"
      ]
     },
     "execution_count": 24,
     "metadata": {},
     "output_type": "execute_result"
    }
   ],
   "source": [
    "all_scripts['Word_Count'] = all_scripts['Line'].str.strip().str.split(\" \").str.len()\n",
    "all_scripts"
   ]
  },
  {
   "cell_type": "code",
   "execution_count": null,
   "metadata": {},
   "outputs": [],
   "source": []
  },
  {
   "cell_type": "code",
   "execution_count": 14,
   "metadata": {},
   "outputs": [
    {
     "data": {
      "text/plain": [
       "Character\n",
       "Leslie Knope     122\n",
       "Ron Swanson      121\n",
       "April Ludgate    121\n",
       "Tom Haverford    118\n",
       "Andy Dwyer       114\n",
       "Extra            111\n",
       "Jerry Gergich    109\n",
       "Donna Meagle     107\n",
       "Ann Perkins       99\n",
       "Ben Wyatt         94\n",
       "Chris Traeger     74\n",
       "Name: Episode, dtype: int64"
      ]
     },
     "execution_count": 14,
     "metadata": {},
     "output_type": "execute_result"
    }
   ],
   "source": [
    "most_episodes = all_scripts.groupby('Character')['Episode'].nunique().sort_values(ascending = False)\n",
    "most_episodes.head(11)"
   ]
  },
  {
   "cell_type": "code",
   "execution_count": 26,
   "metadata": {},
   "outputs": [
    {
     "data": {
      "text/plain": [
       "Character\n",
       "Leslie Knope     141995\n",
       "Tom Haverford     47167\n",
       "Ron Swanson       38794\n",
       "Ben Wyatt         38194\n",
       "Andy Dwyer        37527\n",
       "Ann Perkins       29122\n",
       "April Ludgate     25522\n",
       "Chris Traeger     22177\n",
       "Extra             11866\n",
       "Jerry Gergich      9451\n",
       "Donna Meagle       9370\n",
       "Name: Word_Count, dtype: int64"
      ]
     },
     "execution_count": 26,
     "metadata": {},
     "output_type": "execute_result"
    }
   ],
   "source": [
    "most_episodes = all_scripts.groupby('Character')['Word_Count'].sum().sort_values(ascending = False)\n",
    "most_episodes.head(11)"
   ]
  },
  {
   "cell_type": "code",
   "execution_count": 59,
   "metadata": {},
   "outputs": [
    {
     "data": {
      "text/html": [
       "<div>\n",
       "<style scoped>\n",
       "    .dataframe tbody tr th:only-of-type {\n",
       "        vertical-align: middle;\n",
       "    }\n",
       "\n",
       "    .dataframe tbody tr th {\n",
       "        vertical-align: top;\n",
       "    }\n",
       "\n",
       "    .dataframe thead th {\n",
       "        text-align: right;\n",
       "    }\n",
       "</style>\n",
       "<table border=\"1\" class=\"dataframe\">\n",
       "  <thead>\n",
       "    <tr style=\"text-align: right;\">\n",
       "      <th></th>\n",
       "      <th>Character</th>\n",
       "      <th>Line</th>\n",
       "      <th>Line_Number</th>\n",
       "      <th>Episode</th>\n",
       "      <th>Word_Count</th>\n",
       "    </tr>\n",
       "  </thead>\n",
       "  <tbody>\n",
       "    <tr>\n",
       "      <th>0</th>\n",
       "      <td>Leslie Knope</td>\n",
       "      <td>hello</td>\n",
       "      <td>0</td>\n",
       "      <td>s1e01</td>\n",
       "      <td>1</td>\n",
       "    </tr>\n",
       "    <tr>\n",
       "      <th>1</th>\n",
       "      <td>Leslie Knope</td>\n",
       "      <td>hi</td>\n",
       "      <td>1</td>\n",
       "      <td>s1e01</td>\n",
       "      <td>1</td>\n",
       "    </tr>\n",
       "    <tr>\n",
       "      <th>2</th>\n",
       "      <td>Leslie Knope</td>\n",
       "      <td>my name is leslie knope  and i work for the pa...</td>\n",
       "      <td>2</td>\n",
       "      <td>s1e01</td>\n",
       "      <td>15</td>\n",
       "    </tr>\n",
       "    <tr>\n",
       "      <th>3</th>\n",
       "      <td>Leslie Knope</td>\n",
       "      <td>can i ask you a few questions</td>\n",
       "      <td>3</td>\n",
       "      <td>s1e01</td>\n",
       "      <td>7</td>\n",
       "    </tr>\n",
       "    <tr>\n",
       "      <th>4</th>\n",
       "      <td>Leslie Knope</td>\n",
       "      <td>would you say that you are   enjoying yourself...</td>\n",
       "      <td>4</td>\n",
       "      <td>s1e01</td>\n",
       "      <td>32</td>\n",
       "    </tr>\n",
       "  </tbody>\n",
       "</table>\n",
       "</div>"
      ],
      "text/plain": [
       "      Character                                               Line  \\\n",
       "0  Leslie Knope                                             hello    \n",
       "1  Leslie Knope                                                hi    \n",
       "2  Leslie Knope  my name is leslie knope  and i work for the pa...   \n",
       "3  Leslie Knope                     can i ask you a few questions    \n",
       "4  Leslie Knope  would you say that you are   enjoying yourself...   \n",
       "\n",
       "  Line_Number Episode  Word_Count  \n",
       "0           0   s1e01           1  \n",
       "1           1   s1e01           1  \n",
       "2           2   s1e01          15  \n",
       "3           3   s1e01           7  \n",
       "4           4   s1e01          32  "
      ]
     },
     "execution_count": 59,
     "metadata": {},
     "output_type": "execute_result"
    }
   ],
   "source": [
    "leslie = all_scripts[ all_scripts['Character'] == 'Leslie Knope' ]\n",
    "leslie.head()"
   ]
  },
  {
   "cell_type": "code",
   "execution_count": 62,
   "metadata": {},
   "outputs": [
    {
     "name": "stderr",
     "output_type": "stream",
     "text": [
      "<ipython-input-62-6ea343fd3591>:1: SettingWithCopyWarning: \n",
      "A value is trying to be set on a copy of a slice from a DataFrame.\n",
      "Try using .loc[row_indexer,col_indexer] = value instead\n",
      "\n",
      "See the caveats in the documentation: https://pandas.pydata.org/pandas-docs/stable/user_guide/indexing.html#returning-a-view-versus-a-copy\n",
      "  leslie['Episode_Text'] = leslie.groupby('Episode')['Line'].transform(lambda x : ' '.join(x))\n"
     ]
    },
    {
     "data": {
      "text/html": [
       "<div>\n",
       "<style scoped>\n",
       "    .dataframe tbody tr th:only-of-type {\n",
       "        vertical-align: middle;\n",
       "    }\n",
       "\n",
       "    .dataframe tbody tr th {\n",
       "        vertical-align: top;\n",
       "    }\n",
       "\n",
       "    .dataframe thead th {\n",
       "        text-align: right;\n",
       "    }\n",
       "</style>\n",
       "<table border=\"1\" class=\"dataframe\">\n",
       "  <thead>\n",
       "    <tr style=\"text-align: right;\">\n",
       "      <th></th>\n",
       "      <th>Character</th>\n",
       "      <th>Episode</th>\n",
       "      <th>Episode_Text</th>\n",
       "    </tr>\n",
       "  </thead>\n",
       "  <tbody>\n",
       "    <tr>\n",
       "      <th>0</th>\n",
       "      <td>Leslie Knope</td>\n",
       "      <td>s1e01</td>\n",
       "      <td>hello  hi  my name is leslie knope  and i work...</td>\n",
       "    </tr>\n",
       "    <tr>\n",
       "      <th>1</th>\n",
       "      <td>Leslie Knope</td>\n",
       "      <td>s1e02</td>\n",
       "      <td>well  one of the funner things that we do here...</td>\n",
       "    </tr>\n",
       "    <tr>\n",
       "      <th>2</th>\n",
       "      <td>Leslie Knope</td>\n",
       "      <td>s1e03</td>\n",
       "      <td>the parks department has so many programs  jer...</td>\n",
       "    </tr>\n",
       "    <tr>\n",
       "      <th>3</th>\n",
       "      <td>Leslie Knope</td>\n",
       "      <td>s1e04</td>\n",
       "      <td>i don t believe it  oh  my god  it s real  hey...</td>\n",
       "    </tr>\n",
       "    <tr>\n",
       "      <th>4</th>\n",
       "      <td>Leslie Knope</td>\n",
       "      <td>s1e05</td>\n",
       "      <td>in a town as old as pawnee  there s a lot of h...</td>\n",
       "    </tr>\n",
       "  </tbody>\n",
       "</table>\n",
       "</div>"
      ],
      "text/plain": [
       "      Character Episode                                       Episode_Text\n",
       "0  Leslie Knope   s1e01  hello  hi  my name is leslie knope  and i work...\n",
       "1  Leslie Knope   s1e02  well  one of the funner things that we do here...\n",
       "2  Leslie Knope   s1e03  the parks department has so many programs  jer...\n",
       "3  Leslie Knope   s1e04  i don t believe it  oh  my god  it s real  hey...\n",
       "4  Leslie Knope   s1e05  in a town as old as pawnee  there s a lot of h..."
      ]
     },
     "execution_count": 62,
     "metadata": {},
     "output_type": "execute_result"
    }
   ],
   "source": [
    "leslie['Episode_Text'] = leslie.groupby('Episode')['Line'].transform(lambda x : ' '.join(x)) \n",
    "leslie_episodes = leslie.drop(columns = ['Line', 'Line_Number', 'Word_Count'])\n",
    "leslie_episodes.drop_duplicates(inplace = True)\n",
    "leslie_episodes.reset_index(drop=True, inplace = True)\n",
    "leslie_episodes.head()"
   ]
  },
  {
   "cell_type": "code",
   "execution_count": null,
   "metadata": {},
   "outputs": [],
   "source": [
    "leslie['Line_Number'] = leslie['Line_Number'].astype(str)\n",
    "leslie.head()"
   ]
  },
  {
   "cell_type": "code",
   "execution_count": null,
   "metadata": {},
   "outputs": [],
   "source": [
    "leslie['Episode_Line_Num'] = leslie.Episode + leslie.Line_Number\n",
    "leslie.head()"
   ]
  },
  {
   "cell_type": "code",
   "execution_count": 56,
   "metadata": {},
   "outputs": [],
   "source": [
    "from vaderSentiment.vaderSentiment import SentimentIntensityAnalyzer\n",
    "analyzer = SentimentIntensityAnalyzer()\n",
    "\n",
    "#line_sent = analyser.polarity_scores(leslie['Line'])\n",
    "#line_sent"
   ]
  },
  {
   "cell_type": "code",
   "execution_count": 57,
   "metadata": {},
   "outputs": [
    {
     "name": "stderr",
     "output_type": "stream",
     "text": [
      "<ipython-input-57-fa923dd2e437>:1: SettingWithCopyWarning: \n",
      "A value is trying to be set on a copy of a slice from a DataFrame.\n",
      "Try using .loc[row_indexer,col_indexer] = value instead\n",
      "\n",
      "See the caveats in the documentation: https://pandas.pydata.org/pandas-docs/stable/user_guide/indexing.html#returning-a-view-versus-a-copy\n",
      "  leslie['neg'] = leslie['Line'].apply(lambda x:analyzer.polarity_scores(x)['neg'])\n",
      "<ipython-input-57-fa923dd2e437>:2: SettingWithCopyWarning: \n",
      "A value is trying to be set on a copy of a slice from a DataFrame.\n",
      "Try using .loc[row_indexer,col_indexer] = value instead\n",
      "\n",
      "See the caveats in the documentation: https://pandas.pydata.org/pandas-docs/stable/user_guide/indexing.html#returning-a-view-versus-a-copy\n",
      "  leslie['neu'] = leslie['Line'].apply(lambda x:analyzer.polarity_scores(x)['neu'])\n",
      "<ipython-input-57-fa923dd2e437>:3: SettingWithCopyWarning: \n",
      "A value is trying to be set on a copy of a slice from a DataFrame.\n",
      "Try using .loc[row_indexer,col_indexer] = value instead\n",
      "\n",
      "See the caveats in the documentation: https://pandas.pydata.org/pandas-docs/stable/user_guide/indexing.html#returning-a-view-versus-a-copy\n",
      "  leslie['pos'] = leslie['Line'].apply(lambda x:analyzer.polarity_scores(x)['pos'])\n"
     ]
    },
    {
     "data": {
      "text/html": [
       "<div>\n",
       "<style scoped>\n",
       "    .dataframe tbody tr th:only-of-type {\n",
       "        vertical-align: middle;\n",
       "    }\n",
       "\n",
       "    .dataframe tbody tr th {\n",
       "        vertical-align: top;\n",
       "    }\n",
       "\n",
       "    .dataframe thead th {\n",
       "        text-align: right;\n",
       "    }\n",
       "</style>\n",
       "<table border=\"1\" class=\"dataframe\">\n",
       "  <thead>\n",
       "    <tr style=\"text-align: right;\">\n",
       "      <th></th>\n",
       "      <th>Character</th>\n",
       "      <th>Line</th>\n",
       "      <th>Line_Number</th>\n",
       "      <th>Episode</th>\n",
       "      <th>Word_Count</th>\n",
       "      <th>Episode_Line_Num</th>\n",
       "      <th>neg</th>\n",
       "      <th>neu</th>\n",
       "      <th>pos</th>\n",
       "    </tr>\n",
       "  </thead>\n",
       "  <tbody>\n",
       "    <tr>\n",
       "      <th>0</th>\n",
       "      <td>Leslie Knope</td>\n",
       "      <td>hello</td>\n",
       "      <td>0</td>\n",
       "      <td>s1e01</td>\n",
       "      <td>1</td>\n",
       "      <td>s1e010</td>\n",
       "      <td>0.000</td>\n",
       "      <td>1.00</td>\n",
       "      <td>0.000</td>\n",
       "    </tr>\n",
       "    <tr>\n",
       "      <th>1</th>\n",
       "      <td>Leslie Knope</td>\n",
       "      <td>hi</td>\n",
       "      <td>1</td>\n",
       "      <td>s1e01</td>\n",
       "      <td>1</td>\n",
       "      <td>s1e011</td>\n",
       "      <td>0.000</td>\n",
       "      <td>1.00</td>\n",
       "      <td>0.000</td>\n",
       "    </tr>\n",
       "    <tr>\n",
       "      <th>2</th>\n",
       "      <td>Leslie Knope</td>\n",
       "      <td>my name is leslie knope  and i work for the pa...</td>\n",
       "      <td>2</td>\n",
       "      <td>s1e01</td>\n",
       "      <td>15</td>\n",
       "      <td>s1e012</td>\n",
       "      <td>0.000</td>\n",
       "      <td>1.00</td>\n",
       "      <td>0.000</td>\n",
       "    </tr>\n",
       "    <tr>\n",
       "      <th>3</th>\n",
       "      <td>Leslie Knope</td>\n",
       "      <td>can i ask you a few questions</td>\n",
       "      <td>3</td>\n",
       "      <td>s1e01</td>\n",
       "      <td>7</td>\n",
       "      <td>s1e013</td>\n",
       "      <td>0.000</td>\n",
       "      <td>1.00</td>\n",
       "      <td>0.000</td>\n",
       "    </tr>\n",
       "    <tr>\n",
       "      <th>4</th>\n",
       "      <td>Leslie Knope</td>\n",
       "      <td>would you say that you are   enjoying yourself...</td>\n",
       "      <td>4</td>\n",
       "      <td>s1e01</td>\n",
       "      <td>32</td>\n",
       "      <td>s1e014</td>\n",
       "      <td>0.138</td>\n",
       "      <td>0.54</td>\n",
       "      <td>0.322</td>\n",
       "    </tr>\n",
       "  </tbody>\n",
       "</table>\n",
       "</div>"
      ],
      "text/plain": [
       "      Character                                               Line  \\\n",
       "0  Leslie Knope                                             hello    \n",
       "1  Leslie Knope                                                hi    \n",
       "2  Leslie Knope  my name is leslie knope  and i work for the pa...   \n",
       "3  Leslie Knope                     can i ask you a few questions    \n",
       "4  Leslie Knope  would you say that you are   enjoying yourself...   \n",
       "\n",
       "  Line_Number Episode  Word_Count Episode_Line_Num    neg   neu    pos  \n",
       "0           0   s1e01           1           s1e010  0.000  1.00  0.000  \n",
       "1           1   s1e01           1           s1e011  0.000  1.00  0.000  \n",
       "2           2   s1e01          15           s1e012  0.000  1.00  0.000  \n",
       "3           3   s1e01           7           s1e013  0.000  1.00  0.000  \n",
       "4           4   s1e01          32           s1e014  0.138  0.54  0.322  "
      ]
     },
     "execution_count": 57,
     "metadata": {},
     "output_type": "execute_result"
    }
   ],
   "source": [
    "leslie['neg'] = leslie['Line'].apply(lambda x:analyzer.polarity_scores(x)['neg'])\n",
    "leslie['neu'] = leslie['Line'].apply(lambda x:analyzer.polarity_scores(x)['neu'])\n",
    "leslie['pos'] = leslie['Line'].apply(lambda x:analyzer.polarity_scores(x)['pos'])\n",
    "leslie.head()"
   ]
  },
  {
   "cell_type": "code",
   "execution_count": 58,
   "metadata": {},
   "outputs": [
    {
     "data": {
      "text/plain": [
       "[<matplotlib.lines.Line2D at 0x7f868bc97df0>]"
      ]
     },
     "execution_count": 58,
     "metadata": {},
     "output_type": "execute_result"
    },
    {
     "data": {
      "image/png": "[encoded data removed]",
      "text/plain": [
       "<Figure size 432x288 with 1 Axes>"
      ]
     },
     "metadata": {
      "needs_background": "light"
     },
     "output_type": "display_data"
    }
   ],
   "source": [
    "import matplotlib.pyplot as plt\n",
    "\n",
    "plt.plot(leslie.Episode_Line_Num, leslie.pos )\n",
    "plt.show();"
   ]
  },
  {
   "cell_type": "code",
   "execution_count": 68,
   "metadata": {},
   "outputs": [
    {
     "data": {
      "text/html": [
       "<div>\n",
       "<style scoped>\n",
       "    .dataframe tbody tr th:only-of-type {\n",
       "        vertical-align: middle;\n",
       "    }\n",
       "\n",
       "    .dataframe tbody tr th {\n",
       "        vertical-align: top;\n",
       "    }\n",
       "\n",
       "    .dataframe thead th {\n",
       "        text-align: right;\n",
       "    }\n",
       "</style>\n",
       "<table border=\"1\" class=\"dataframe\">\n",
       "  <thead>\n",
       "    <tr style=\"text-align: right;\">\n",
       "      <th></th>\n",
       "      <th>Character</th>\n",
       "      <th>Episode</th>\n",
       "      <th>Episode_Text</th>\n",
       "      <th>neg</th>\n",
       "      <th>neu</th>\n",
       "      <th>pos</th>\n",
       "      <th>season</th>\n",
       "    </tr>\n",
       "  </thead>\n",
       "  <tbody>\n",
       "    <tr>\n",
       "      <th>0</th>\n",
       "      <td>Leslie Knope</td>\n",
       "      <td>s1e01</td>\n",
       "      <td>hello  hi  my name is leslie knope  and i work...</td>\n",
       "      <td>0.031</td>\n",
       "      <td>0.780</td>\n",
       "      <td>0.189</td>\n",
       "      <td>s1</td>\n",
       "    </tr>\n",
       "    <tr>\n",
       "      <th>1</th>\n",
       "      <td>Leslie Knope</td>\n",
       "      <td>s1e02</td>\n",
       "      <td>well  one of the funner things that we do here...</td>\n",
       "      <td>0.061</td>\n",
       "      <td>0.749</td>\n",
       "      <td>0.190</td>\n",
       "      <td>s1</td>\n",
       "    </tr>\n",
       "    <tr>\n",
       "      <th>2</th>\n",
       "      <td>Leslie Knope</td>\n",
       "      <td>s1e03</td>\n",
       "      <td>the parks department has so many programs  jer...</td>\n",
       "      <td>0.072</td>\n",
       "      <td>0.747</td>\n",
       "      <td>0.181</td>\n",
       "      <td>s1</td>\n",
       "    </tr>\n",
       "    <tr>\n",
       "      <th>3</th>\n",
       "      <td>Leslie Knope</td>\n",
       "      <td>s1e04</td>\n",
       "      <td>i don t believe it  oh  my god  it s real  hey...</td>\n",
       "      <td>0.088</td>\n",
       "      <td>0.745</td>\n",
       "      <td>0.168</td>\n",
       "      <td>s1</td>\n",
       "    </tr>\n",
       "    <tr>\n",
       "      <th>4</th>\n",
       "      <td>Leslie Knope</td>\n",
       "      <td>s1e05</td>\n",
       "      <td>in a town as old as pawnee  there s a lot of h...</td>\n",
       "      <td>0.052</td>\n",
       "      <td>0.742</td>\n",
       "      <td>0.206</td>\n",
       "      <td>s1</td>\n",
       "    </tr>\n",
       "  </tbody>\n",
       "</table>\n",
       "</div>"
      ],
      "text/plain": [
       "      Character Episode                                       Episode_Text  \\\n",
       "0  Leslie Knope   s1e01  hello  hi  my name is leslie knope  and i work...   \n",
       "1  Leslie Knope   s1e02  well  one of the funner things that we do here...   \n",
       "2  Leslie Knope   s1e03  the parks department has so many programs  jer...   \n",
       "3  Leslie Knope   s1e04  i don t believe it  oh  my god  it s real  hey...   \n",
       "4  Leslie Knope   s1e05  in a town as old as pawnee  there s a lot of h...   \n",
       "\n",
       "     neg    neu    pos season  \n",
       "0  0.031  0.780  0.189     s1  \n",
       "1  0.061  0.749  0.190     s1  \n",
       "2  0.072  0.747  0.181     s1  \n",
       "3  0.088  0.745  0.168     s1  \n",
       "4  0.052  0.742  0.206     s1  "
      ]
     },
     "execution_count": 68,
     "metadata": {},
     "output_type": "execute_result"
    }
   ],
   "source": [
    "leslie_episodes['neg'] = leslie_episodes['Episode_Text'].apply(lambda x:analyzer.polarity_scores(x)['neg'])\n",
    "leslie_episodes['neu'] = leslie_episodes['Episode_Text'].apply(lambda x:analyzer.polarity_scores(x)['neu'])\n",
    "leslie_episodes['pos'] = leslie_episodes['Episode_Text'].apply(lambda x:analyzer.polarity_scores(x)['pos'])\n",
    "leslie_episodes['season'] = leslie_episodes['Episode'].str[:2]\n",
    "leslie_episodes.head()"
   ]
  },
  {
   "cell_type": "code",
   "execution_count": 79,
   "metadata": {},
   "outputs": [
    {
     "data": {
      "image/png": "[encoded data removed]",
      "text/plain": [
       "<Figure size 432x288 with 1 Axes>"
      ]
     },
     "metadata": {
      "needs_background": "light"
     },
     "output_type": "display_data"
    }
   ],
   "source": [
    "import seaborn as sns \n",
    "\n",
    "sns.lineplot(data = leslie_episodes, x = 'Episode', y = 'pos', hue = 'season');"
   ]
  },
  {
   "cell_type": "code",
   "execution_count": 65,
   "metadata": {},
   "outputs": [
    {
     "data": {
      "image/png": "[encoded data removed]",
      "text/plain": [
       "<Figure size 432x288 with 1 Axes>"
      ]
     },
     "metadata": {
      "needs_background": "light"
     },
     "output_type": "display_data"
    }
   ],
   "source": [
    "plt.plot(leslie_episodes.Episode, leslie_episodes.neu)\n",
    "plt.show();"
   ]
  },
  {
   "cell_type": "code",
   "execution_count": 66,
   "metadata": {},
   "outputs": [
    {
     "data": {
      "image/png": "[encoded data removed]",
      "text/plain": [
       "<Figure size 432x288 with 1 Axes>"
      ]
     },
     "metadata": {
      "needs_background": "light"
     },
     "output_type": "display_data"
    }
   ],
   "source": [
    "plt.plot(leslie_episodes.Episode, leslie_episodes.neg )\n",
    "plt.show();"
   ]
  },
  {
   "cell_type": "code",
   "execution_count": null,
   "metadata": {},
   "outputs": [],
   "source": []
  }
 ],
 "metadata": {
  "kernelspec": {
   "display_name": "Python 3",
   "language": "python",
   "name": "python3"
  },
  "language_info": {
   "codemirror_mode": {
    "name": "ipython",
    "version": 3
   },
   "file_extension": ".py",
   "mimetype": "text/x-python",
   "name": "python",
   "nbconvert_exporter": "python",
   "pygments_lexer": "ipython3",
   "version": "3.8.5"
  }
 },
 "nbformat": 4,
 "nbformat_minor": 4
}
