{
 "cells": [
  {
   "cell_type": "code",
   "execution_count": 33,
   "metadata": {},
   "outputs": [],
   "source": [
    "import glob\n",
    "import pandas as pd\n",
    "import pickle"
   ]
  },
  {
   "cell_type": "code",
   "execution_count": 5,
   "metadata": {},
   "outputs": [],
   "source": [
    "myfiles = []\n",
    "for each_file in glob.glob('scripts/*.csv'):\n",
    "    myfiles.append(each_file)"
   ]
  },
  {
   "cell_type": "code",
   "execution_count": 8,
   "metadata": {},
   "outputs": [
    {
     "data": {
      "text/plain": [
       "122"
      ]
     },
     "execution_count": 8,
     "metadata": {},
     "output_type": "execute_result"
    }
   ],
   "source": [
    "len(myfiles)"
   ]
  },
  {
   "cell_type": "code",
   "execution_count": 11,
   "metadata": {},
   "outputs": [
    {
     "data": {
      "text/plain": [
       "'scripts/s2e13.csv'"
      ]
     },
     "execution_count": 11,
     "metadata": {},
     "output_type": "execute_result"
    }
   ],
   "source": [
    "myfiles[1]"
   ]
  },
  {
   "cell_type": "code",
   "execution_count": 27,
   "metadata": {},
   "outputs": [],
   "source": [
    "all_scripts = pd.DataFrame(columns=['Character', 'Line', 'Line_Number', 'Episode'])\n",
    "for file in myfiles:\n",
    "    script = pd.read_csv(file)\n",
    "    script['Line_Number'] = script.index\n",
    "    script['Episode'] = file.replace('scripts/', '').replace('.csv', '')\n",
    "    all_scripts = all_scripts.append(script)\n",
    "    "
   ]
  },
  {
   "cell_type": "code",
   "execution_count": 32,
   "metadata": {},
   "outputs": [
    {
     "data": {
      "text/html": [
       "<div>\n",
       "<style scoped>\n",
       "    .dataframe tbody tr th:only-of-type {\n",
       "        vertical-align: middle;\n",
       "    }\n",
       "\n",
       "    .dataframe tbody tr th {\n",
       "        vertical-align: top;\n",
       "    }\n",
       "\n",
       "    .dataframe thead th {\n",
       "        text-align: right;\n",
       "    }\n",
       "</style>\n",
       "<table border=\"1\" class=\"dataframe\">\n",
       "  <thead>\n",
       "    <tr style=\"text-align: right;\">\n",
       "      <th></th>\n",
       "      <th>Character</th>\n",
       "      <th>Line</th>\n",
       "      <th>Line_Number</th>\n",
       "      <th>Episode</th>\n",
       "    </tr>\n",
       "  </thead>\n",
       "  <tbody>\n",
       "    <tr>\n",
       "      <th>0</th>\n",
       "      <td>Leslie Knope</td>\n",
       "      <td>Hello.</td>\n",
       "      <td>0</td>\n",
       "      <td>s1e01</td>\n",
       "    </tr>\n",
       "    <tr>\n",
       "      <th>1</th>\n",
       "      <td>Leslie Knope</td>\n",
       "      <td>Hi.</td>\n",
       "      <td>1</td>\n",
       "      <td>s1e01</td>\n",
       "    </tr>\n",
       "    <tr>\n",
       "      <th>2</th>\n",
       "      <td>Leslie Knope</td>\n",
       "      <td>My name is Leslie Knope, and I work for the Pa...</td>\n",
       "      <td>2</td>\n",
       "      <td>s1e01</td>\n",
       "    </tr>\n",
       "    <tr>\n",
       "      <th>3</th>\n",
       "      <td>Leslie Knope</td>\n",
       "      <td>Can I ask you a few questions?</td>\n",
       "      <td>3</td>\n",
       "      <td>s1e01</td>\n",
       "    </tr>\n",
       "    <tr>\n",
       "      <th>4</th>\n",
       "      <td>Leslie Knope</td>\n",
       "      <td>Would you say that you are, \"Enjoying yourself...</td>\n",
       "      <td>4</td>\n",
       "      <td>s1e01</td>\n",
       "    </tr>\n",
       "    <tr>\n",
       "      <th>...</th>\n",
       "      <td>...</td>\n",
       "      <td>...</td>\n",
       "      <td>...</td>\n",
       "      <td>...</td>\n",
       "    </tr>\n",
       "    <tr>\n",
       "      <th>988</th>\n",
       "      <td>Jerry Gergich</td>\n",
       "      <td>Okay.</td>\n",
       "      <td>988</td>\n",
       "      <td>s7e12</td>\n",
       "    </tr>\n",
       "    <tr>\n",
       "      <th>989</th>\n",
       "      <td>Ben Wyatt</td>\n",
       "      <td>You ready, babe?</td>\n",
       "      <td>989</td>\n",
       "      <td>s7e12</td>\n",
       "    </tr>\n",
       "    <tr>\n",
       "      <th>990</th>\n",
       "      <td>Leslie Knope</td>\n",
       "      <td>Yes.</td>\n",
       "      <td>990</td>\n",
       "      <td>s7e12</td>\n",
       "    </tr>\n",
       "    <tr>\n",
       "      <th>991</th>\n",
       "      <td>Leslie Knope</td>\n",
       "      <td>I'm ready.</td>\n",
       "      <td>991</td>\n",
       "      <td>s7e12</td>\n",
       "    </tr>\n",
       "    <tr>\n",
       "      <th>992</th>\n",
       "      <td>Extra</td>\n",
       "      <td>That is a series wrap on Parks and Recreation.</td>\n",
       "      <td>992</td>\n",
       "      <td>s7e12</td>\n",
       "    </tr>\n",
       "  </tbody>\n",
       "</table>\n",
       "<p>65942 rows × 4 columns</p>\n",
       "</div>"
      ],
      "text/plain": [
       "         Character                                               Line  \\\n",
       "0     Leslie Knope                                             Hello.   \n",
       "1     Leslie Knope                                                Hi.   \n",
       "2     Leslie Knope  My name is Leslie Knope, and I work for the Pa...   \n",
       "3     Leslie Knope                     Can I ask you a few questions?   \n",
       "4     Leslie Knope  Would you say that you are, \"Enjoying yourself...   \n",
       "..             ...                                                ...   \n",
       "988  Jerry Gergich                                              Okay.   \n",
       "989      Ben Wyatt                                   You ready, babe?   \n",
       "990   Leslie Knope                                               Yes.   \n",
       "991   Leslie Knope                                         I'm ready.   \n",
       "992          Extra     That is a series wrap on Parks and Recreation.   \n",
       "\n",
       "    Line_Number Episode  \n",
       "0             0   s1e01  \n",
       "1             1   s1e01  \n",
       "2             2   s1e01  \n",
       "3             3   s1e01  \n",
       "4             4   s1e01  \n",
       "..          ...     ...  \n",
       "988         988   s7e12  \n",
       "989         989   s7e12  \n",
       "990         990   s7e12  \n",
       "991         991   s7e12  \n",
       "992         992   s7e12  \n",
       "\n",
       "[65942 rows x 4 columns]"
      ]
     },
     "execution_count": 32,
     "metadata": {},
     "output_type": "execute_result"
    }
   ],
   "source": [
    "all_scripts.sort_values(['Episode', 'Line_Number'])"
   ]
  },
  {
   "cell_type": "code",
   "execution_count": null,
   "metadata": {},
   "outputs": [],
   "source": [
    "with open('Data Sets/Final_Data_Set.pickle', 'wb') as to_write:\n",
    "        pickle.dump(full_recipe_data_key, to_write)"
   ]
  },
  {
   "cell_type": "code",
   "execution_count": null,
   "metadata": {},
   "outputs": [],
   "source": [
    "with open('Data Sets/Recipe_Data_Scrape.pickle','rb') as read_file:\n",
    "    recipe_dictionary = pickle.load(read_file)"
   ]
  },
  {
   "cell_type": "code",
   "execution_count": 373,
   "metadata": {},
   "outputs": [],
   "source": [
    "\n",
    "#vectorizer = CountVectorizer(stop_words = 'english' )\n",
    "#doc_word = vectorizer.fit_transform(all_scripts.Line)\n",
    "#doc_word.shape"
   ]
  },
  {
   "cell_type": "code",
   "execution_count": 374,
   "metadata": {},
   "outputs": [
    {
     "data": {
      "text/plain": [
       "(65942, 3)"
      ]
     },
     "execution_count": 374,
     "metadata": {},
     "output_type": "execute_result"
    }
   ],
   "source": [
    "nmf_model = NMF(3)\n",
    "doc_topic = nmf_model.fit_transform(doc_word)\n",
    "doc_topic.shape"
   ]
  },
  {
   "cell_type": "code",
   "execution_count": 375,
   "metadata": {},
   "outputs": [
    {
     "data": {
      "text/plain": [
       "(3, 17211)"
      ]
     },
     "execution_count": 375,
     "metadata": {},
     "output_type": "execute_result"
    }
   ],
   "source": [
    "topic_word = nmf_model.components_\n",
    "topic_word.shape"
   ]
  },
  {
   "cell_type": "code",
   "execution_count": 376,
   "metadata": {},
   "outputs": [
    {
     "data": {
      "text/plain": [
       "[['right', 'kind', 'man', 'down', 'stop', 'feel', 'life'],\n",
       " ['time', 'first', 'last', 'find', 'capsule', 'spend', 'down'],\n",
       " ['pawnee', 'people', 'great', 'love', 'work', 'city', 'town']]"
      ]
     },
     "execution_count": 376,
     "metadata": {},
     "output_type": "execute_result"
    }
   ],
   "source": [
    "words = vectorizer.get_feature_names()\n",
    "t = nmf_model.components_.argsort(axis=1)[:,-1:-8:-1]\n",
    "topic_words = [[words[e] for e in l] for l in t]\n",
    "topic_words"
   ]
  },
  {
   "cell_type": "code",
   "execution_count": null,
   "metadata": {},
   "outputs": [],
   "source": []
  },
  {
   "cell_type": "code",
   "execution_count": 393,
   "metadata": {},
   "outputs": [
    {
     "data": {
      "text/plain": [
       "(65942, 16285)"
      ]
     },
     "execution_count": 393,
     "metadata": {},
     "output_type": "execute_result"
    }
   ],
   "source": [
    "vectorizer = CountVectorizer(max_df = 0.0005)\n",
    "doc_word = vectorizer.fit_transform(all_scripts.Line)\n",
    "doc_word.shape"
   ]
  },
  {
   "cell_type": "code",
   "execution_count": 392,
   "metadata": {},
   "outputs": [
    {
     "data": {
      "text/plain": [
       "(65942, 17378)"
      ]
     },
     "execution_count": 392,
     "metadata": {},
     "output_type": "execute_result"
    }
   ],
   "source": []
  },
  {
   "cell_type": "code",
   "execution_count": 394,
   "metadata": {},
   "outputs": [
    {
     "data": {
      "text/plain": [
       "(65942, 3)"
      ]
     },
     "execution_count": 394,
     "metadata": {},
     "output_type": "execute_result"
    }
   ],
   "source": [
    "nmf_model = NMF(3)\n",
    "doc_topic = nmf_model.fit_transform(doc_word)\n",
    "doc_topic.shape"
   ]
  },
  {
   "cell_type": "code",
   "execution_count": 395,
   "metadata": {},
   "outputs": [
    {
     "data": {
      "text/plain": [
       "(3, 16285)"
      ]
     },
     "execution_count": 395,
     "metadata": {},
     "output_type": "execute_result"
    }
   ],
   "source": [
    "topic_word = nmf_model.components_\n",
    "topic_word.shape"
   ]
  },
  {
   "cell_type": "code",
   "execution_count": 396,
   "metadata": {},
   "outputs": [
    {
     "data": {
      "text/plain": [
       "[['blah', 'poker', 'basic', 'medical', 'facts', 'records', 'texts'],\n",
       " ['grid', 'entirely', 'places', 'dope', 'photos', 'post', 'mission'],\n",
       " ['chop', 'master', 'throat', 'tighten', 'cab', 'meter', 'bakin']]"
      ]
     },
     "execution_count": 396,
     "metadata": {},
     "output_type": "execute_result"
    }
   ],
   "source": [
    "words = vectorizer.get_feature_names()\n",
    "t = nmf_model.components_.argsort(axis=1)[:,-1:-8:-1]\n",
    "topic_words = [[words[e] for e in l] for l in t]\n",
    "topic_words"
   ]
  },
  {
   "cell_type": "code",
   "execution_count": null,
   "metadata": {},
   "outputs": [],
   "source": []
  }
 ],
 "metadata": {
  "kernelspec": {
   "display_name": "Python 3",
   "language": "python",
   "name": "python3"
  },
  "language_info": {
   "codemirror_mode": {
    "name": "ipython",
    "version": 3
   },
   "file_extension": ".py",
   "mimetype": "text/x-python",
   "name": "python",
   "nbconvert_exporter": "python",
   "pygments_lexer": "ipython3",
   "version": "3.8.5"
  }
 },
 "nbformat": 4,
 "nbformat_minor": 4
}
